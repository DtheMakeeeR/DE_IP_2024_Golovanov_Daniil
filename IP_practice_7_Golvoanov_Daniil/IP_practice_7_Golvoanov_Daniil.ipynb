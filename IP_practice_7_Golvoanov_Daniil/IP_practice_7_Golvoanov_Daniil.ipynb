{
 "cells": [
  {
   "cell_type": "code",
   "execution_count": 1,
   "id": "97984164-e38a-4aa9-ac01-69e5383a370f",
   "metadata": {},
   "outputs": [
    {
     "name": "stdout",
     "output_type": "stream",
     "text": [
      "Исходный размер: 36504 байт\n",
      "Размер после сжатия: 30200 байт\n",
      "Коэффициент сжатия: 1.21\n"
     ]
    }
   ],
   "source": [
    "import cv2\n",
    "import numpy as np\n",
    "\n",
    "image = cv2.imread('source.jpg', cv2.IMREAD_GRAYSCALE) \n",
    "np.savetxt('original_image.txt', image, fmt='%d')\n",
    "\n",
    "def haar_transform(image):\n",
    "    rows, cols = image.shape\n",
    "    LL = (image[0::2, 0::2] + image[0::2, 1::2] + image[1::2, 0::2] + image[1::2, 1::2]) / 4\n",
    "    LH = (image[0::2, 0::2] + image[0::2, 1::2] - image[1::2, 0::2] - image[1::2, 1::2]) / 4\n",
    "    HL = (image[0::2, 0::2] - image[0::2, 1::2] + image[1::2, 0::2] - image[1::2, 1::2]) / 4\n",
    "    HH = (image[0::2, 0::2] - image[0::2, 1::2] - image[1::2, 0::2] + image[1::2, 1::2]) / 4\n",
    "    return LL, LH, HL, HH\n",
    "\n",
    "LL, LH, HL, HH = haar_transform(image)\n",
    "\n",
    "def quantize(data, levels):\n",
    "    min_val = np.min(data)\n",
    "    max_val = np.max(data)\n",
    "    step = (max_val - min_val) / levels\n",
    "    quantized = np.floor((data - min_val) / step) * step + min_val\n",
    "    return quantized\n",
    "\n",
    "LH_quantized = quantize(LH, 4)\n",
    "HL_quantized = quantize(HL, 4)\n",
    "HH_quantized = quantize(HH, 4)\n",
    "\n",
    "def run_length_encode(data):\n",
    "    flattened = data.flatten()\n",
    "    encoded = []\n",
    "    prev = flattened[0]\n",
    "    count = 1\n",
    "    for value in flattened[1:]:\n",
    "        if value == prev:\n",
    "            count += 1\n",
    "        else:\n",
    "            encoded.append((prev, count))\n",
    "            prev = value\n",
    "            count = 1\n",
    "    encoded.append((prev, count))\n",
    "    return encoded\n",
    "\n",
    "LH_encoded = run_length_encode(LH_quantized)\n",
    "HL_encoded = run_length_encode(HL_quantized)\n",
    "HH_encoded = run_length_encode(HH_quantized)\n",
    "\n",
    "with open('haar_output.txt', 'w') as f:\n",
    "    \n",
    "    np.savetxt(f, LL, fmt='%f')\n",
    "    \n",
    "    f.write(\"LH:\\n\")\n",
    "    for v, c in LH_encoded:\n",
    "        f.write(f\"{v} {c}\\n\")\n",
    "    f.write(\"HL:\\n\")\n",
    "    for v, c in HL_encoded:\n",
    "        f.write(f\"{v} {c}\\n\")\n",
    "    f.write(\"HH:\\n\")\n",
    "    for v, c in HH_encoded:\n",
    "        f.write(f\"{v} {c}\\n\")\n",
    "\n",
    "\n",
    "original_size = image.nbytes  # Размер исходного изображения\n",
    "\n",
    "compressed_size = 0\n",
    "with open('wavelet_data.txt', 'r') as f:\n",
    "    compressed_size = len(f.read().encode('utf-8'))\n",
    "\n",
    "print(f\"Исходный размер: {original_size} байт\")\n",
    "print(f\"Размер после сжатия: {compressed_size} байт\")\n",
    "print(f\"Коэффициент сжатия: {original_size / compressed_size:.2f}\")"
   ]
  },
  {
   "cell_type": "code",
   "execution_count": null,
   "id": "b829ee6e-6038-411e-b431-4f33847b80ec",
   "metadata": {},
   "outputs": [],
   "source": []
  }
 ],
 "metadata": {
  "kernelspec": {
   "display_name": "Python 3 (ipykernel)",
   "language": "python",
   "name": "python3"
  },
  "language_info": {
   "codemirror_mode": {
    "name": "ipython",
    "version": 3
   },
   "file_extension": ".py",
   "mimetype": "text/x-python",
   "name": "python",
   "nbconvert_exporter": "python",
   "pygments_lexer": "ipython3",
   "version": "3.10.11"
  }
 },
 "nbformat": 4,
 "nbformat_minor": 5
}
